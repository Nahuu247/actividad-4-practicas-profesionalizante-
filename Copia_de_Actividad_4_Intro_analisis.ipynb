{
  "cells": [
    {
      "cell_type": "markdown",
      "id": "60d1c9e3-34d4-4278-9b6f-6deaa18bfa16",
      "metadata": {
        "id": "60d1c9e3-34d4-4278-9b6f-6deaa18bfa16"
      },
      "source": [
        "# Prácticas Profesionalizantes 2024\n",
        "EEST 9\n",
        "\n",
        "# Actividad 4\n",
        "\n",
        "#Conociendo qué es un dataset y qué datos contiene"
      ]
    },
    {
      "cell_type": "markdown",
      "id": "HyDvHWoNS--n",
      "metadata": {
        "id": "HyDvHWoNS--n"
      },
      "source": [
        "## Trabajo en grupo entre 2 o 3 estudiantes\n",
        "Indicar los nombres y los links de los repositorios de la actividad 3 de los integrantes:\n",
        "* Ortiz Nahuel repositorio"
      ]
    },
    {
      "cell_type": "markdown",
      "id": "Nnb6G-PBrCdr",
      "metadata": {
        "id": "Nnb6G-PBrCdr"
      },
      "source": [
        "# Parte 1"
      ]
    },
    {
      "cell_type": "markdown",
      "id": "c16a0c86-50c0-44e7-b04c-bd96ecd19c71",
      "metadata": {
        "id": "c16a0c86-50c0-44e7-b04c-bd96ecd19c71"
      },
      "source": [
        "## 1.Investigue los siguientes sitios\n",
        "¿Qué formatos de archivos encuentra?\n",
        "* Datos Argentina https://www.datos.gob.ar\n",
        "* Censo 2022: https://censo.gob.ar/\n",
        "* Ministerio de Defensa: https://www.ign.gob.ar/NuestrasActividades/InformacionGeoespacial/CapasSIG\n",
        "* kaggle: https://www.kaggle.com/\n",
        "* World Data: https://ourworldindata.org/\n",
        "* Statista: https://www.statista.com/statistics/1401035/uk-social-media-users-by-education/\n",
        "\n"
      ]
    },
    {
      "cell_type": "markdown",
      "id": "e263e83a-b4ce-4b31-a5b6-39e2fa262c0f",
      "metadata": {
        "id": "e263e83a-b4ce-4b31-a5b6-39e2fa262c0f"
      },
      "source": [
        "#Responder:\n",
        "     Los formatos de archivo que se encuentran son:\n",
        "     *pdf\n",
        "     *csv\n",
        "     *xls\n",
        "     *shp\n",
        "     *xlsx\n",
        "     *pptx\n",
        "     *ppt\n",
        "     *GeoJSON\n",
        "     *KML\n",
        "     *Metadatos\n",
        "     "
      ]
    },
    {
      "cell_type": "markdown",
      "id": "bb442f67-f07c-47ac-a502-c66215752936",
      "metadata": {
        "id": "bb442f67-f07c-47ac-a502-c66215752936"
      },
      "source": [
        "## 2.¿Con qué programas podemos abrir estos archivos?\n",
        "* **Nota**: probar abrir con el bloc de notas o editar de texto simple"
      ]
    },
    {
      "cell_type": "markdown",
      "id": "bd04e348-52c0-46fb-89a2-2eec4ab636c6",
      "metadata": {
        "id": "bd04e348-52c0-46fb-89a2-2eec4ab636c6"
      },
      "source": [
        "#Respuestas:\n",
        "\n",
        "* ZIP:WinRAR\n",
        "  \n",
        "* PDF:Adobe Acrobat Reader  \n",
        "\n",
        "* CSV:Microsoft Excel o el Bloc de notas\n",
        "\n",
        "* XLS:Microsoft Excel\n",
        "   \n",
        "* SHP:QGIS\n",
        "    \n",
        "* XLSX:Microsoft Excel\n",
        "    \n",
        "* PPTX:Microsoft PowerPoint\n",
        "   \n",
        "* PPT:Microsoft PowerPoint\n",
        "   \n",
        "* GeoJSON:Visual Studio Code\n",
        "\n",
        "* KML:Google Earth *"
      ]
    },
    {
      "cell_type": "markdown",
      "id": "256a0a45-b30c-47e9-afe7-5770561184c1",
      "metadata": {
        "id": "256a0a45-b30c-47e9-afe7-5770561184c1"
      },
      "source": [
        "## 3.¿Cuál es la diferencia de abrirlo con una aplicación o con python?"
      ]
    },
    {
      "cell_type": "code",
      "execution_count": null,
      "id": "7dc56acf-c2ad-4a03-b64e-1ea43c173c04",
      "metadata": {
        "id": "7dc56acf-c2ad-4a03-b64e-1ea43c173c04"
      },
      "outputs": [],
      "source": [
        "#Respuesta abrir un archivo en python es mayormente para analizarlo que a diferencia en la aplicacion es para modificarlo ademas de ser desorganizado visualmente ya que en python la informacion se mostrara en texto siendo todo separado por comas, en cambio abrirlo con su aplicacion correspondiente te permite visualizar el contenido de una manera mas comoda y encontrar la informacion mucho mas sensillamente"
      ]
    },
    {
      "cell_type": "markdown",
      "id": "6b138c5d-1fc8-49e5-a757-ccceb60d3b60",
      "metadata": {
        "id": "6b138c5d-1fc8-49e5-a757-ccceb60d3b60"
      },
      "source": [
        "## 4.¿Cuáles son formatos abiertos y cuáles no ?"
      ]
    },
    {
      "cell_type": "raw",
      "id": "f0933702-e5d0-4c7d-9790-7a58ad8c0a41",
      "metadata": {
        "id": "f0933702-e5d0-4c7d-9790-7a58ad8c0a41"
      },
      "source": [
        "#Respuesta:\n",
        " # Formatos de archivos abiertos: *csv, *shp, *geoJSON, *kml, *metadatos\n",
        " # Formatos no abiertos: *xls, *pdf, *xlsx, *pptx, *ppt\n"
      ]
    },
    {
      "cell_type": "markdown",
      "id": "44b5c704-a31d-4ce7-9737-8e10a279fbd3",
      "metadata": {
        "id": "44b5c704-a31d-4ce7-9737-8e10a279fbd3"
      },
      "source": [
        "## 5.Descargue uno de los siguientes archivos y responda las siguientes preguntas\n",
        "* [Aeropuertos Argentina](https://ourairports.com/countries/AR/airports.csv)\n",
        "* [Áreas protegidas](https://dnsg.ign.gob.ar/apps/api/v1/capas-sig/Geodesia+y+demarcaci%C3%B3n/L%C3%ADmites/area_protegida/csv)\n",
        "* [Conectivdad Argentina](https://datos.gob.ar/dataset/enacom-conectividad-al-servicio-internet/archivo/enacom_CONEC-AL-SERVI-DE-INTER_0)\n",
        "* [Lagos Argentinos](https://drive.google.com/file/d/1IrQhlI15z449f0qO82QVCkkjHvVoqBJ1/view?usp=sharing). Sitio de donde se descargó manualmente: https://www.ign.gob.ar/NuestrasActividades/Geografia/DatosArgentina/Lagos\n",
        "* [Concurrencia a Parque Nacionales](https://www.datos.gob.ar/dataset/turismo-parques-nacionales/archivo/turismo_a570af75-ed33-427c-9797-980fc0cd8fd1)\n",
        "* [Datos sobre consumo cultural](https://datos.cultura.gob.ar/dataset/encuesta-nacional-de-consumos-culturales)"
      ]
    },
    {
      "cell_type": "markdown",
      "id": "30c4171e-6213-4948-a7eb-a1e128a0bab6",
      "metadata": {
        "id": "30c4171e-6213-4948-a7eb-a1e128a0bab6"
      },
      "source": [
        "## 6.Abra el dataset con una  aplicación a elección\n",
        "* Indique la cantidad de:\n",
        "    * filas\n",
        "    * columnas\n",
        "* Indique cuáles y cuántos valores únicos contiene la **columna especificada** según el dataset elegido."
      ]
    },
    {
      "cell_type": "markdown",
      "id": "cc3f89e1-69f0-4ce0-b84f-8010b2c7b20a",
      "metadata": {
        "id": "cc3f89e1-69f0-4ce0-b84f-8010b2c7b20a"
      },
      "source": [
        "* Aeropuertos Argentina:type\n",
        "* Áreas protegidas: tap   \n",
        "* Conectivdad Argentina: elegir una de las tecnologías: ADSL \tCABLEMODEM \tDIALUP \tFIBRAOPTICA \tSATELITAL \tWIRELESS \tTELEFONIAFIJA\n",
        "* Lagos Argentinos: Ubicación\n",
        "* Concurrencia a Parque Nacionales:origen_visitantes\n",
        "* Datos sobre consumo cultural: p4\n"
      ]
    },
    {
      "cell_type": "markdown",
      "id": "073a3988-6387-4084-a430-e665771a33c9",
      "metadata": {
        "id": "073a3988-6387-4084-a430-e665771a33c9"
      },
      "source": [
        "## Ahora trabajaremos con python y la librería pandas"
      ]
    },
    {
      "cell_type": "markdown",
      "id": "963afbf1-4453-4d4b-a599-2b81637d388a",
      "metadata": {
        "id": "963afbf1-4453-4d4b-a599-2b81637d388a"
      },
      "source": [
        "Para trabajar con el archivo utilizaremos la librería pandas, primero la importamos"
      ]
    },
    {
      "cell_type": "code",
      "execution_count": 5,
      "id": "ee80e294-ed74-4e6b-a56e-1a9eed6d23da",
      "metadata": {
        "id": "ee80e294-ed74-4e6b-a56e-1a9eed6d23da"
      },
      "outputs": [],
      "source": [
        "import pandas as pd"
      ]
    },
    {
      "cell_type": "markdown",
      "id": "bb1bcf06-e3a5-4f56-a2e1-a7834a1d3bd4",
      "metadata": {
        "id": "bb1bcf06-e3a5-4f56-a2e1-a7834a1d3bd4"
      },
      "source": [
        "Luego abrimos el archivo con la librería **pandas**\n",
        "* la función **read_csv**. Se pueden abrir otros tipos de archivos con otroas funciones.\n",
        "* la sentencia **columns** lista los nombres de las columnas\n",
        "```python\n",
        "nombre_variable = pd.read_csv('Conectividad_Internet.csv')\n",
        "nombre_variable.columns\n",
        "```"
      ]
    },
    {
      "cell_type": "markdown",
      "id": "39ea6873-4246-4e0b-97f1-d2f4aecec66b",
      "metadata": {
        "id": "39ea6873-4246-4e0b-97f1-d2f4aecec66b"
      },
      "source": [
        "## 7.Indique los nombres de las columnas"
      ]
    },
    {
      "cell_type": "code",
      "execution_count": 6,
      "id": "0b6f6a82-ab33-406b-9ff5-89a7a2ada066",
      "metadata": {
        "id": "0b6f6a82-ab33-406b-9ff5-89a7a2ada066",
        "colab": {
          "base_uri": "https://localhost:8080/"
        },
        "outputId": "6f88a94c-101f-451d-b231-d573c7c5be50"
      },
      "outputs": [
        {
          "output_type": "execute_result",
          "data": {
            "text/plain": [
              "Index(['Provincia', 'Partido', 'Localidad', 'Poblacion', 'ADSL', 'CABLEMODEM',\n",
              "       'DIALUP', 'FIBRAOPTICA', 'SATELITAL', 'WIRELESS', 'TELEFONIAFIJA', '3G',\n",
              "       '4G', 'link', 'Latitud', 'Longitud'],\n",
              "      dtype='object')"
            ]
          },
          "metadata": {},
          "execution_count": 6
        }
      ],
      "source": [
        "#Respuesta\n",
        "import pandas as pd\n",
        "Internet = pd.read_csv('Conectividad_Internet.csv')\n",
        "Internet.columns"
      ]
    },
    {
      "cell_type": "markdown",
      "id": "f1bc5222-fb0e-42ea-be01-8189eef414db",
      "metadata": {
        "id": "f1bc5222-fb0e-42ea-be01-8189eef414db"
      },
      "source": [
        "## 8.Indique el tipo de dato de la variable:\n",
        "```python\n",
        "type('Conectividad_Internet.csv')\n",
        "```"
      ]
    },
    {
      "cell_type": "code",
      "execution_count": 8,
      "id": "44e45943-129e-4236-b142-fdf69d1e2ecf",
      "metadata": {
        "id": "44e45943-129e-4236-b142-fdf69d1e2ecf",
        "colab": {
          "base_uri": "https://localhost:8080/"
        },
        "outputId": "d4560325-43a3-4092-b186-2d28d14552a9"
      },
      "outputs": [
        {
          "output_type": "execute_result",
          "data": {
            "text/plain": [
              "str"
            ]
          },
          "metadata": {},
          "execution_count": 8
        }
      ],
      "source": [
        "#Respuesta\n",
        "type('Conectividad_Internet.csv')"
      ]
    },
    {
      "cell_type": "markdown",
      "id": "43296795-b605-4af8-8fdb-3e1245465321",
      "metadata": {
        "id": "43296795-b605-4af8-8fdb-3e1245465321"
      },
      "source": [
        "## 9. Ahora con python vamos a buscar la misma información que encontramos con la aplicación\n",
        "* Indique la cantidad de:\n",
        "    * filas\n",
        "     -4312\n",
        "    * columnas\n",
        "     -16\n",
        "* Indique cuáles y cuántos valores únicos contiene la **columna especificada** según el dataset elegido.\n",
        "\n",
        "'BUENOS AIRES', 'CABA', 'CORDOBA', 'JUJUY', 'SAN LUIS', 'FORMOSA','CATAMARCA', 'LA PAMPA', 'MENDOZA', 'NEUQUEN', 'RIO NEGRO'. 'SAN JUAN', 'SANTA CRUZ', 'SANTA FE', 'SANTIAGO DEL ESTERO','TUCUMAN', 'MISIONES', 'LA RIOJA', 'SALTA', 'CHACO','TIERRA DEL FUEGO', 'CHUBUT', 'CORRIENTES', 'ENTRE RIOS'\n",
        "  serian 24 valores unicos en la columna provincia"
      ]
    },
    {
      "cell_type": "markdown",
      "id": "2bedaf05-aa05-40d5-9dac-ea5dbea5b8c0",
      "metadata": {
        "id": "2bedaf05-aa05-40d5-9dac-ea5dbea5b8c0"
      },
      "source": [
        "*  Aeropuertos Argentina:type\n",
        "* Áreas protegidas: tap   \n",
        "* Concurrencia a Parque Nacionales:origen_visitantes\n",
        "* Datos sobre consumo cultural: p4\n",
        "* Lagos Argentinos: Ubicación\n",
        "* Conectivdad Argentina: elegir una de las tecnologías: ADSL \tCABLEMODEM \tDIALUP \tFIBRAOPTICA \tSATELITAL \tWIRELESS \tTELEFONIAFIJA\n"
      ]
    },
    {
      "cell_type": "markdown",
      "id": "985e2b9d-048f-4298-9a0c-47a07130ace7",
      "metadata": {
        "id": "985e2b9d-048f-4298-9a0c-47a07130ace7"
      },
      "source": [
        "Utilizamos **shape** para saber la cantidad de filas  y columnas:\n",
        "```python\n",
        "nombre_dataframe.shape\n",
        "```"
      ]
    },
    {
      "cell_type": "code",
      "execution_count": 9,
      "id": "b133e348-7c37-44ac-bf8d-baf26480959b",
      "metadata": {
        "id": "b133e348-7c37-44ac-bf8d-baf26480959b",
        "colab": {
          "base_uri": "https://localhost:8080/"
        },
        "outputId": "1883d0dc-7867-41da-e6a9-bed0bfd6f727"
      },
      "outputs": [
        {
          "output_type": "execute_result",
          "data": {
            "text/plain": [
              "(4312, 16)"
            ]
          },
          "metadata": {},
          "execution_count": 9
        }
      ],
      "source": [
        "Internet.shape"
      ]
    },
    {
      "cell_type": "markdown",
      "id": "ff176681-465f-4d37-b11b-eee7ad8191ed",
      "metadata": {
        "id": "ff176681-465f-4d37-b11b-eee7ad8191ed"
      },
      "source": [
        "Utilizamos el método unique para saber los valores únicos de una columna:\n",
        "```python\n",
        "nombre_dataframe.nombre_columna.unique()\n"
      ]
    },
    {
      "cell_type": "code",
      "execution_count": 10,
      "id": "dad7140b-af1c-433c-821f-fa9714a1d736",
      "metadata": {
        "id": "dad7140b-af1c-433c-821f-fa9714a1d736",
        "colab": {
          "base_uri": "https://localhost:8080/"
        },
        "outputId": "8e01b129-e472-48fa-fe47-0180b974dfd5"
      },
      "outputs": [
        {
          "output_type": "execute_result",
          "data": {
            "text/plain": [
              "array(['BUENOS AIRES', 'CABA', 'CORDOBA', 'JUJUY', 'SAN LUIS', 'FORMOSA',\n",
              "       'CATAMARCA', 'LA PAMPA', 'MENDOZA', 'NEUQUEN', 'RIO NEGRO',\n",
              "       'SAN JUAN', 'SANTA CRUZ', 'SANTA FE', 'SANTIAGO DEL ESTERO',\n",
              "       'TUCUMAN', 'MISIONES', 'LA RIOJA', 'SALTA', 'CHACO',\n",
              "       'TIERRA DEL FUEGO', 'CHUBUT', 'CORRIENTES', 'ENTRE RIOS'],\n",
              "      dtype=object)"
            ]
          },
          "metadata": {},
          "execution_count": 10
        }
      ],
      "source": [
        "#respuesta\n",
        "Internet.Provincia.unique()"
      ]
    },
    {
      "cell_type": "markdown",
      "id": "dc05d3da-1f1b-4ab3-b2fa-3463d0f10d66",
      "metadata": {
        "id": "dc05d3da-1f1b-4ab3-b2fa-3463d0f10d66"
      },
      "source": [
        "## 10. Indique si las columnas contienen valores nulos"
      ]
    },
    {
      "cell_type": "markdown",
      "id": "4a985ee7-9d91-496d-b696-0274818ea568",
      "metadata": {
        "id": "4a985ee7-9d91-496d-b696-0274818ea568"
      },
      "source": [
        "La sentencia **isnull().sum()** suma la cantidad de valores nulos de cada columna del dataframe\n",
        "```\n",
        "nombre_dataframe.isnull().sum()\n",
        "```"
      ]
    },
    {
      "cell_type": "code",
      "source": [
        "Internet.isnull().sum()"
      ],
      "metadata": {
        "id": "8knIaxvaWZ5l",
        "colab": {
          "base_uri": "https://localhost:8080/",
          "height": 585
        },
        "outputId": "e61efa90-000e-48d4-978c-0820cf612a8c"
      },
      "id": "8knIaxvaWZ5l",
      "execution_count": 11,
      "outputs": [
        {
          "output_type": "execute_result",
          "data": {
            "text/plain": [
              "Provincia          0\n",
              "Partido            0\n",
              "Localidad          0\n",
              "Poblacion          0\n",
              "ADSL               0\n",
              "CABLEMODEM         0\n",
              "DIALUP             0\n",
              "FIBRAOPTICA        0\n",
              "SATELITAL          0\n",
              "WIRELESS           0\n",
              "TELEFONIAFIJA      0\n",
              "3G                 0\n",
              "4G                 0\n",
              "link             476\n",
              "Latitud            0\n",
              "Longitud           0\n",
              "dtype: int64"
            ],
            "text/html": [
              "<div>\n",
              "<style scoped>\n",
              "    .dataframe tbody tr th:only-of-type {\n",
              "        vertical-align: middle;\n",
              "    }\n",
              "\n",
              "    .dataframe tbody tr th {\n",
              "        vertical-align: top;\n",
              "    }\n",
              "\n",
              "    .dataframe thead th {\n",
              "        text-align: right;\n",
              "    }\n",
              "</style>\n",
              "<table border=\"1\" class=\"dataframe\">\n",
              "  <thead>\n",
              "    <tr style=\"text-align: right;\">\n",
              "      <th></th>\n",
              "      <th>0</th>\n",
              "    </tr>\n",
              "  </thead>\n",
              "  <tbody>\n",
              "    <tr>\n",
              "      <th>Provincia</th>\n",
              "      <td>0</td>\n",
              "    </tr>\n",
              "    <tr>\n",
              "      <th>Partido</th>\n",
              "      <td>0</td>\n",
              "    </tr>\n",
              "    <tr>\n",
              "      <th>Localidad</th>\n",
              "      <td>0</td>\n",
              "    </tr>\n",
              "    <tr>\n",
              "      <th>Poblacion</th>\n",
              "      <td>0</td>\n",
              "    </tr>\n",
              "    <tr>\n",
              "      <th>ADSL</th>\n",
              "      <td>0</td>\n",
              "    </tr>\n",
              "    <tr>\n",
              "      <th>CABLEMODEM</th>\n",
              "      <td>0</td>\n",
              "    </tr>\n",
              "    <tr>\n",
              "      <th>DIALUP</th>\n",
              "      <td>0</td>\n",
              "    </tr>\n",
              "    <tr>\n",
              "      <th>FIBRAOPTICA</th>\n",
              "      <td>0</td>\n",
              "    </tr>\n",
              "    <tr>\n",
              "      <th>SATELITAL</th>\n",
              "      <td>0</td>\n",
              "    </tr>\n",
              "    <tr>\n",
              "      <th>WIRELESS</th>\n",
              "      <td>0</td>\n",
              "    </tr>\n",
              "    <tr>\n",
              "      <th>TELEFONIAFIJA</th>\n",
              "      <td>0</td>\n",
              "    </tr>\n",
              "    <tr>\n",
              "      <th>3G</th>\n",
              "      <td>0</td>\n",
              "    </tr>\n",
              "    <tr>\n",
              "      <th>4G</th>\n",
              "      <td>0</td>\n",
              "    </tr>\n",
              "    <tr>\n",
              "      <th>link</th>\n",
              "      <td>476</td>\n",
              "    </tr>\n",
              "    <tr>\n",
              "      <th>Latitud</th>\n",
              "      <td>0</td>\n",
              "    </tr>\n",
              "    <tr>\n",
              "      <th>Longitud</th>\n",
              "      <td>0</td>\n",
              "    </tr>\n",
              "  </tbody>\n",
              "</table>\n",
              "</div><br><label><b>dtype:</b> int64</label>"
            ]
          },
          "metadata": {},
          "execution_count": 11
        }
      ]
    },
    {
      "cell_type": "markdown",
      "id": "e6377436-b606-4147-870f-4e0428ac38fd",
      "metadata": {
        "id": "e6377436-b606-4147-870f-4e0428ac38fd"
      },
      "source": [
        "# Ejemplo con archivo de copa américa"
      ]
    },
    {
      "cell_type": "code",
      "execution_count": 12,
      "id": "16fe81b3-8409-49f5-a690-fe24f8dec6eb",
      "metadata": {
        "id": "16fe81b3-8409-49f5-a690-fe24f8dec6eb",
        "scrolled": true
      },
      "outputs": [],
      "source": [
        "import pandas as pd\n",
        "Internet = pd.read_csv('Conectividad_Internet.csv')"
      ]
    },
    {
      "cell_type": "code",
      "execution_count": 13,
      "id": "Qbjsxk4Hdw3o",
      "metadata": {
        "id": "Qbjsxk4Hdw3o",
        "colab": {
          "base_uri": "https://localhost:8080/",
          "height": 203
        },
        "outputId": "68ba728e-ee16-40c0-cb58-6e75f26eb20f"
      },
      "outputs": [
        {
          "output_type": "execute_result",
          "data": {
            "text/plain": [
              "pandas.core.frame.DataFrame"
            ],
            "text/html": [
              "<div style=\"max-width:800px; border: 1px solid var(--colab-border-color);\"><style>\n",
              "      pre.function-repr-contents {\n",
              "        overflow-x: auto;\n",
              "        padding: 8px 12px;\n",
              "        max-height: 500px;\n",
              "      }\n",
              "\n",
              "      pre.function-repr-contents.function-repr-contents-collapsed {\n",
              "        cursor: pointer;\n",
              "        max-height: 100px;\n",
              "      }\n",
              "    </style>\n",
              "    <pre style=\"white-space: initial; background:\n",
              "         var(--colab-secondary-surface-color); padding: 8px 12px;\n",
              "         border-bottom: 1px solid var(--colab-border-color);\"><b>pandas.core.frame.DataFrame</b><br/>def __init__(data=None, index: Axes | None=None, columns: Axes | None=None, dtype: Dtype | None=None, copy: bool | None=None) -&gt; None</pre><pre class=\"function-repr-contents function-repr-contents-collapsed\" style=\"\"><a class=\"filepath\" style=\"display:none\" href=\"#\">/usr/local/lib/python3.10/dist-packages/pandas/core/frame.py</a>Two-dimensional, size-mutable, potentially heterogeneous tabular data.\n",
              "\n",
              "Data structure also contains labeled axes (rows and columns).\n",
              "Arithmetic operations align on both row and column labels. Can be\n",
              "thought of as a dict-like container for Series objects. The primary\n",
              "pandas data structure.\n",
              "\n",
              "Parameters\n",
              "----------\n",
              "data : ndarray (structured or homogeneous), Iterable, dict, or DataFrame\n",
              "    Dict can contain Series, arrays, constants, dataclass or list-like objects. If\n",
              "    data is a dict, column order follows insertion-order. If a dict contains Series\n",
              "    which have an index defined, it is aligned by its index. This alignment also\n",
              "    occurs if data is a Series or a DataFrame itself. Alignment is done on\n",
              "    Series/DataFrame inputs.\n",
              "\n",
              "    If data is a list of dicts, column order follows insertion-order.\n",
              "\n",
              "index : Index or array-like\n",
              "    Index to use for resulting frame. Will default to RangeIndex if\n",
              "    no indexing information part of input data and no index provided.\n",
              "columns : Index or array-like\n",
              "    Column labels to use for resulting frame when data does not have them,\n",
              "    defaulting to RangeIndex(0, 1, 2, ..., n). If data contains column labels,\n",
              "    will perform column selection instead.\n",
              "dtype : dtype, default None\n",
              "    Data type to force. Only a single dtype is allowed. If None, infer.\n",
              "copy : bool or None, default None\n",
              "    Copy data from inputs.\n",
              "    For dict data, the default of None behaves like ``copy=True``.  For DataFrame\n",
              "    or 2d ndarray input, the default of None behaves like ``copy=False``.\n",
              "    If data is a dict containing one or more Series (possibly of different dtypes),\n",
              "    ``copy=False`` will ensure that these inputs are not copied.\n",
              "\n",
              "    .. versionchanged:: 1.3.0\n",
              "\n",
              "See Also\n",
              "--------\n",
              "DataFrame.from_records : Constructor from tuples, also record arrays.\n",
              "DataFrame.from_dict : From dicts of Series, arrays, or dicts.\n",
              "read_csv : Read a comma-separated values (csv) file into DataFrame.\n",
              "read_table : Read general delimited file into DataFrame.\n",
              "read_clipboard : Read text from clipboard into DataFrame.\n",
              "\n",
              "Notes\n",
              "-----\n",
              "Please reference the :ref:`User Guide &lt;basics.dataframe&gt;` for more information.\n",
              "\n",
              "Examples\n",
              "--------\n",
              "Constructing DataFrame from a dictionary.\n",
              "\n",
              "&gt;&gt;&gt; d = {&#x27;col1&#x27;: [1, 2], &#x27;col2&#x27;: [3, 4]}\n",
              "&gt;&gt;&gt; df = pd.DataFrame(data=d)\n",
              "&gt;&gt;&gt; df\n",
              "   col1  col2\n",
              "0     1     3\n",
              "1     2     4\n",
              "\n",
              "Notice that the inferred dtype is int64.\n",
              "\n",
              "&gt;&gt;&gt; df.dtypes\n",
              "col1    int64\n",
              "col2    int64\n",
              "dtype: object\n",
              "\n",
              "To enforce a single dtype:\n",
              "\n",
              "&gt;&gt;&gt; df = pd.DataFrame(data=d, dtype=np.int8)\n",
              "&gt;&gt;&gt; df.dtypes\n",
              "col1    int8\n",
              "col2    int8\n",
              "dtype: object\n",
              "\n",
              "Constructing DataFrame from a dictionary including Series:\n",
              "\n",
              "&gt;&gt;&gt; d = {&#x27;col1&#x27;: [0, 1, 2, 3], &#x27;col2&#x27;: pd.Series([2, 3], index=[2, 3])}\n",
              "&gt;&gt;&gt; pd.DataFrame(data=d, index=[0, 1, 2, 3])\n",
              "   col1  col2\n",
              "0     0   NaN\n",
              "1     1   NaN\n",
              "2     2   2.0\n",
              "3     3   3.0\n",
              "\n",
              "Constructing DataFrame from numpy ndarray:\n",
              "\n",
              "&gt;&gt;&gt; df2 = pd.DataFrame(np.array([[1, 2, 3], [4, 5, 6], [7, 8, 9]]),\n",
              "...                    columns=[&#x27;a&#x27;, &#x27;b&#x27;, &#x27;c&#x27;])\n",
              "&gt;&gt;&gt; df2\n",
              "   a  b  c\n",
              "0  1  2  3\n",
              "1  4  5  6\n",
              "2  7  8  9\n",
              "\n",
              "Constructing DataFrame from a numpy ndarray that has labeled columns:\n",
              "\n",
              "&gt;&gt;&gt; data = np.array([(1, 2, 3), (4, 5, 6), (7, 8, 9)],\n",
              "...                 dtype=[(&quot;a&quot;, &quot;i4&quot;), (&quot;b&quot;, &quot;i4&quot;), (&quot;c&quot;, &quot;i4&quot;)])\n",
              "&gt;&gt;&gt; df3 = pd.DataFrame(data, columns=[&#x27;c&#x27;, &#x27;a&#x27;])\n",
              "...\n",
              "&gt;&gt;&gt; df3\n",
              "   c  a\n",
              "0  3  1\n",
              "1  6  4\n",
              "2  9  7\n",
              "\n",
              "Constructing DataFrame from dataclass:\n",
              "\n",
              "&gt;&gt;&gt; from dataclasses import make_dataclass\n",
              "&gt;&gt;&gt; Point = make_dataclass(&quot;Point&quot;, [(&quot;x&quot;, int), (&quot;y&quot;, int)])\n",
              "&gt;&gt;&gt; pd.DataFrame([Point(0, 0), Point(0, 3), Point(2, 3)])\n",
              "   x  y\n",
              "0  0  0\n",
              "1  0  3\n",
              "2  2  3\n",
              "\n",
              "Constructing DataFrame from Series/DataFrame:\n",
              "\n",
              "&gt;&gt;&gt; ser = pd.Series([1, 2, 3], index=[&quot;a&quot;, &quot;b&quot;, &quot;c&quot;])\n",
              "&gt;&gt;&gt; df = pd.DataFrame(data=ser, index=[&quot;a&quot;, &quot;c&quot;])\n",
              "&gt;&gt;&gt; df\n",
              "   0\n",
              "a  1\n",
              "c  3\n",
              "\n",
              "&gt;&gt;&gt; df1 = pd.DataFrame([1, 2, 3], index=[&quot;a&quot;, &quot;b&quot;, &quot;c&quot;], columns=[&quot;x&quot;])\n",
              "&gt;&gt;&gt; df2 = pd.DataFrame(data=df1, index=[&quot;a&quot;, &quot;c&quot;])\n",
              "&gt;&gt;&gt; df2\n",
              "   x\n",
              "a  1\n",
              "c  3</pre>\n",
              "      <script>\n",
              "      if (google.colab.kernel.accessAllowed && google.colab.files && google.colab.files.view) {\n",
              "        for (const element of document.querySelectorAll('.filepath')) {\n",
              "          element.style.display = 'block'\n",
              "          element.onclick = (event) => {\n",
              "            event.preventDefault();\n",
              "            event.stopPropagation();\n",
              "            google.colab.files.view(element.textContent, 509);\n",
              "          };\n",
              "        }\n",
              "      }\n",
              "      for (const element of document.querySelectorAll('.function-repr-contents')) {\n",
              "        element.onclick = (event) => {\n",
              "          event.preventDefault();\n",
              "          event.stopPropagation();\n",
              "          element.classList.toggle('function-repr-contents-collapsed');\n",
              "        };\n",
              "      }\n",
              "      </script>\n",
              "      </div>"
            ]
          },
          "metadata": {},
          "execution_count": 13
        }
      ],
      "source": [
        "type(Internet)"
      ]
    },
    {
      "cell_type": "code",
      "execution_count": 14,
      "id": "4e4c9217-4ac2-4cba-84c3-4e17c6d00c75",
      "metadata": {
        "id": "4e4c9217-4ac2-4cba-84c3-4e17c6d00c75",
        "colab": {
          "base_uri": "https://localhost:8080/"
        },
        "outputId": "99387827-d55a-4ec1-994c-7d1f91bf2973"
      },
      "outputs": [
        {
          "output_type": "execute_result",
          "data": {
            "text/plain": [
              "Index(['Provincia', 'Partido', 'Localidad', 'Poblacion', 'ADSL', 'CABLEMODEM',\n",
              "       'DIALUP', 'FIBRAOPTICA', 'SATELITAL', 'WIRELESS', 'TELEFONIAFIJA', '3G',\n",
              "       '4G', 'link', 'Latitud', 'Longitud'],\n",
              "      dtype='object')"
            ]
          },
          "metadata": {},
          "execution_count": 14
        }
      ],
      "source": [
        "Internet.columns"
      ]
    },
    {
      "cell_type": "code",
      "execution_count": 15,
      "id": "9fffd550-ba5a-43d5-9d6b-fe079e705abd",
      "metadata": {
        "id": "9fffd550-ba5a-43d5-9d6b-fe079e705abd",
        "colab": {
          "base_uri": "https://localhost:8080/",
          "height": 203
        },
        "outputId": "e82eff53-57b3-4e9c-9dc7-2b77d19722e8"
      },
      "outputs": [
        {
          "output_type": "execute_result",
          "data": {
            "text/plain": [
              "pandas.core.frame.DataFrame"
            ],
            "text/html": [
              "<div style=\"max-width:800px; border: 1px solid var(--colab-border-color);\"><style>\n",
              "      pre.function-repr-contents {\n",
              "        overflow-x: auto;\n",
              "        padding: 8px 12px;\n",
              "        max-height: 500px;\n",
              "      }\n",
              "\n",
              "      pre.function-repr-contents.function-repr-contents-collapsed {\n",
              "        cursor: pointer;\n",
              "        max-height: 100px;\n",
              "      }\n",
              "    </style>\n",
              "    <pre style=\"white-space: initial; background:\n",
              "         var(--colab-secondary-surface-color); padding: 8px 12px;\n",
              "         border-bottom: 1px solid var(--colab-border-color);\"><b>pandas.core.frame.DataFrame</b><br/>def __init__(data=None, index: Axes | None=None, columns: Axes | None=None, dtype: Dtype | None=None, copy: bool | None=None) -&gt; None</pre><pre class=\"function-repr-contents function-repr-contents-collapsed\" style=\"\"><a class=\"filepath\" style=\"display:none\" href=\"#\">/usr/local/lib/python3.10/dist-packages/pandas/core/frame.py</a>Two-dimensional, size-mutable, potentially heterogeneous tabular data.\n",
              "\n",
              "Data structure also contains labeled axes (rows and columns).\n",
              "Arithmetic operations align on both row and column labels. Can be\n",
              "thought of as a dict-like container for Series objects. The primary\n",
              "pandas data structure.\n",
              "\n",
              "Parameters\n",
              "----------\n",
              "data : ndarray (structured or homogeneous), Iterable, dict, or DataFrame\n",
              "    Dict can contain Series, arrays, constants, dataclass or list-like objects. If\n",
              "    data is a dict, column order follows insertion-order. If a dict contains Series\n",
              "    which have an index defined, it is aligned by its index. This alignment also\n",
              "    occurs if data is a Series or a DataFrame itself. Alignment is done on\n",
              "    Series/DataFrame inputs.\n",
              "\n",
              "    If data is a list of dicts, column order follows insertion-order.\n",
              "\n",
              "index : Index or array-like\n",
              "    Index to use for resulting frame. Will default to RangeIndex if\n",
              "    no indexing information part of input data and no index provided.\n",
              "columns : Index or array-like\n",
              "    Column labels to use for resulting frame when data does not have them,\n",
              "    defaulting to RangeIndex(0, 1, 2, ..., n). If data contains column labels,\n",
              "    will perform column selection instead.\n",
              "dtype : dtype, default None\n",
              "    Data type to force. Only a single dtype is allowed. If None, infer.\n",
              "copy : bool or None, default None\n",
              "    Copy data from inputs.\n",
              "    For dict data, the default of None behaves like ``copy=True``.  For DataFrame\n",
              "    or 2d ndarray input, the default of None behaves like ``copy=False``.\n",
              "    If data is a dict containing one or more Series (possibly of different dtypes),\n",
              "    ``copy=False`` will ensure that these inputs are not copied.\n",
              "\n",
              "    .. versionchanged:: 1.3.0\n",
              "\n",
              "See Also\n",
              "--------\n",
              "DataFrame.from_records : Constructor from tuples, also record arrays.\n",
              "DataFrame.from_dict : From dicts of Series, arrays, or dicts.\n",
              "read_csv : Read a comma-separated values (csv) file into DataFrame.\n",
              "read_table : Read general delimited file into DataFrame.\n",
              "read_clipboard : Read text from clipboard into DataFrame.\n",
              "\n",
              "Notes\n",
              "-----\n",
              "Please reference the :ref:`User Guide &lt;basics.dataframe&gt;` for more information.\n",
              "\n",
              "Examples\n",
              "--------\n",
              "Constructing DataFrame from a dictionary.\n",
              "\n",
              "&gt;&gt;&gt; d = {&#x27;col1&#x27;: [1, 2], &#x27;col2&#x27;: [3, 4]}\n",
              "&gt;&gt;&gt; df = pd.DataFrame(data=d)\n",
              "&gt;&gt;&gt; df\n",
              "   col1  col2\n",
              "0     1     3\n",
              "1     2     4\n",
              "\n",
              "Notice that the inferred dtype is int64.\n",
              "\n",
              "&gt;&gt;&gt; df.dtypes\n",
              "col1    int64\n",
              "col2    int64\n",
              "dtype: object\n",
              "\n",
              "To enforce a single dtype:\n",
              "\n",
              "&gt;&gt;&gt; df = pd.DataFrame(data=d, dtype=np.int8)\n",
              "&gt;&gt;&gt; df.dtypes\n",
              "col1    int8\n",
              "col2    int8\n",
              "dtype: object\n",
              "\n",
              "Constructing DataFrame from a dictionary including Series:\n",
              "\n",
              "&gt;&gt;&gt; d = {&#x27;col1&#x27;: [0, 1, 2, 3], &#x27;col2&#x27;: pd.Series([2, 3], index=[2, 3])}\n",
              "&gt;&gt;&gt; pd.DataFrame(data=d, index=[0, 1, 2, 3])\n",
              "   col1  col2\n",
              "0     0   NaN\n",
              "1     1   NaN\n",
              "2     2   2.0\n",
              "3     3   3.0\n",
              "\n",
              "Constructing DataFrame from numpy ndarray:\n",
              "\n",
              "&gt;&gt;&gt; df2 = pd.DataFrame(np.array([[1, 2, 3], [4, 5, 6], [7, 8, 9]]),\n",
              "...                    columns=[&#x27;a&#x27;, &#x27;b&#x27;, &#x27;c&#x27;])\n",
              "&gt;&gt;&gt; df2\n",
              "   a  b  c\n",
              "0  1  2  3\n",
              "1  4  5  6\n",
              "2  7  8  9\n",
              "\n",
              "Constructing DataFrame from a numpy ndarray that has labeled columns:\n",
              "\n",
              "&gt;&gt;&gt; data = np.array([(1, 2, 3), (4, 5, 6), (7, 8, 9)],\n",
              "...                 dtype=[(&quot;a&quot;, &quot;i4&quot;), (&quot;b&quot;, &quot;i4&quot;), (&quot;c&quot;, &quot;i4&quot;)])\n",
              "&gt;&gt;&gt; df3 = pd.DataFrame(data, columns=[&#x27;c&#x27;, &#x27;a&#x27;])\n",
              "...\n",
              "&gt;&gt;&gt; df3\n",
              "   c  a\n",
              "0  3  1\n",
              "1  6  4\n",
              "2  9  7\n",
              "\n",
              "Constructing DataFrame from dataclass:\n",
              "\n",
              "&gt;&gt;&gt; from dataclasses import make_dataclass\n",
              "&gt;&gt;&gt; Point = make_dataclass(&quot;Point&quot;, [(&quot;x&quot;, int), (&quot;y&quot;, int)])\n",
              "&gt;&gt;&gt; pd.DataFrame([Point(0, 0), Point(0, 3), Point(2, 3)])\n",
              "   x  y\n",
              "0  0  0\n",
              "1  0  3\n",
              "2  2  3\n",
              "\n",
              "Constructing DataFrame from Series/DataFrame:\n",
              "\n",
              "&gt;&gt;&gt; ser = pd.Series([1, 2, 3], index=[&quot;a&quot;, &quot;b&quot;, &quot;c&quot;])\n",
              "&gt;&gt;&gt; df = pd.DataFrame(data=ser, index=[&quot;a&quot;, &quot;c&quot;])\n",
              "&gt;&gt;&gt; df\n",
              "   0\n",
              "a  1\n",
              "c  3\n",
              "\n",
              "&gt;&gt;&gt; df1 = pd.DataFrame([1, 2, 3], index=[&quot;a&quot;, &quot;b&quot;, &quot;c&quot;], columns=[&quot;x&quot;])\n",
              "&gt;&gt;&gt; df2 = pd.DataFrame(data=df1, index=[&quot;a&quot;, &quot;c&quot;])\n",
              "&gt;&gt;&gt; df2\n",
              "   x\n",
              "a  1\n",
              "c  3</pre>\n",
              "      <script>\n",
              "      if (google.colab.kernel.accessAllowed && google.colab.files && google.colab.files.view) {\n",
              "        for (const element of document.querySelectorAll('.filepath')) {\n",
              "          element.style.display = 'block'\n",
              "          element.onclick = (event) => {\n",
              "            event.preventDefault();\n",
              "            event.stopPropagation();\n",
              "            google.colab.files.view(element.textContent, 509);\n",
              "          };\n",
              "        }\n",
              "      }\n",
              "      for (const element of document.querySelectorAll('.function-repr-contents')) {\n",
              "        element.onclick = (event) => {\n",
              "          event.preventDefault();\n",
              "          event.stopPropagation();\n",
              "          element.classList.toggle('function-repr-contents-collapsed');\n",
              "        };\n",
              "      }\n",
              "      </script>\n",
              "      </div>"
            ]
          },
          "metadata": {},
          "execution_count": 15
        }
      ],
      "source": [
        "type(Internet)"
      ]
    },
    {
      "cell_type": "code",
      "execution_count": null,
      "id": "17KFpJ4cfV9j",
      "metadata": {
        "id": "17KFpJ4cfV9j"
      },
      "outputs": [],
      "source": []
    },
    {
      "cell_type": "markdown",
      "id": "efcb2f9a-f2cc-40dd-b0d0-a29ff36d4d5f",
      "metadata": {
        "id": "efcb2f9a-f2cc-40dd-b0d0-a29ff36d4d5f"
      },
      "source": []
    },
    {
      "cell_type": "markdown",
      "id": "ZYXN8cScq8g5",
      "metadata": {
        "id": "ZYXN8cScq8g5"
      },
      "source": [
        "# Parte 2"
      ]
    },
    {
      "cell_type": "markdown",
      "id": "AB52fbZZoYEX",
      "metadata": {
        "id": "AB52fbZZoYEX"
      },
      "source": [
        "# Completar hasta acá de la actividad 4 hasta el viernes 3/5"
      ]
    },
    {
      "cell_type": "markdown",
      "id": "ad28f4fa-aa40-4ef3-a208-56dc7ae05e92",
      "metadata": {
        "id": "ad28f4fa-aa40-4ef3-a208-56dc7ae05e92"
      },
      "source": [
        "## Gráficamos"
      ]
    },
    {
      "cell_type": "code",
      "source": [
        "Internet.columns\n"
      ],
      "metadata": {
        "id": "Kc1T_-0jKcl5",
        "colab": {
          "base_uri": "https://localhost:8080/"
        },
        "outputId": "63edcbee-cafc-4fa6-b69c-f7103ce7645a"
      },
      "id": "Kc1T_-0jKcl5",
      "execution_count": 16,
      "outputs": [
        {
          "output_type": "execute_result",
          "data": {
            "text/plain": [
              "Index(['Provincia', 'Partido', 'Localidad', 'Poblacion', 'ADSL', 'CABLEMODEM',\n",
              "       'DIALUP', 'FIBRAOPTICA', 'SATELITAL', 'WIRELESS', 'TELEFONIAFIJA', '3G',\n",
              "       '4G', 'link', 'Latitud', 'Longitud'],\n",
              "      dtype='object')"
            ]
          },
          "metadata": {},
          "execution_count": 16
        }
      ]
    },
    {
      "cell_type": "code",
      "source": [
        "Internet.Provincia.value_counts()"
      ],
      "metadata": {
        "id": "jbH2QScnKn2i",
        "colab": {
          "base_uri": "https://localhost:8080/",
          "height": 868
        },
        "outputId": "824eae0b-9bc5-4b74-b866-56b80e9d729a"
      },
      "id": "jbH2QScnKn2i",
      "execution_count": 17,
      "outputs": [
        {
          "output_type": "execute_result",
          "data": {
            "text/plain": [
              "Provincia\n",
              "BUENOS AIRES           901\n",
              "CORDOBA                556\n",
              "SANTA FE               388\n",
              "SAN LUIS               229\n",
              "MENDOZA                210\n",
              "ENTRE RIOS             194\n",
              "CATAMARCA              182\n",
              "SANTIAGO DEL ESTERO    165\n",
              "RIO NEGRO              163\n",
              "JUJUY                  160\n",
              "MISIONES               143\n",
              "SALTA                  139\n",
              "TUCUMAN                117\n",
              "SAN JUAN               108\n",
              "LA RIOJA                93\n",
              "CHACO                   92\n",
              "CHUBUT                  90\n",
              "LA PAMPA                89\n",
              "CORRIENTES              78\n",
              "FORMOSA                 63\n",
              "NEUQUEN                 61\n",
              "CABA                    48\n",
              "SANTA CRUZ              27\n",
              "TIERRA DEL FUEGO        16\n",
              "Name: count, dtype: int64"
            ],
            "text/html": [
              "<div>\n",
              "<style scoped>\n",
              "    .dataframe tbody tr th:only-of-type {\n",
              "        vertical-align: middle;\n",
              "    }\n",
              "\n",
              "    .dataframe tbody tr th {\n",
              "        vertical-align: top;\n",
              "    }\n",
              "\n",
              "    .dataframe thead th {\n",
              "        text-align: right;\n",
              "    }\n",
              "</style>\n",
              "<table border=\"1\" class=\"dataframe\">\n",
              "  <thead>\n",
              "    <tr style=\"text-align: right;\">\n",
              "      <th></th>\n",
              "      <th>count</th>\n",
              "    </tr>\n",
              "    <tr>\n",
              "      <th>Provincia</th>\n",
              "      <th></th>\n",
              "    </tr>\n",
              "  </thead>\n",
              "  <tbody>\n",
              "    <tr>\n",
              "      <th>BUENOS AIRES</th>\n",
              "      <td>901</td>\n",
              "    </tr>\n",
              "    <tr>\n",
              "      <th>CORDOBA</th>\n",
              "      <td>556</td>\n",
              "    </tr>\n",
              "    <tr>\n",
              "      <th>SANTA FE</th>\n",
              "      <td>388</td>\n",
              "    </tr>\n",
              "    <tr>\n",
              "      <th>SAN LUIS</th>\n",
              "      <td>229</td>\n",
              "    </tr>\n",
              "    <tr>\n",
              "      <th>MENDOZA</th>\n",
              "      <td>210</td>\n",
              "    </tr>\n",
              "    <tr>\n",
              "      <th>ENTRE RIOS</th>\n",
              "      <td>194</td>\n",
              "    </tr>\n",
              "    <tr>\n",
              "      <th>CATAMARCA</th>\n",
              "      <td>182</td>\n",
              "    </tr>\n",
              "    <tr>\n",
              "      <th>SANTIAGO DEL ESTERO</th>\n",
              "      <td>165</td>\n",
              "    </tr>\n",
              "    <tr>\n",
              "      <th>RIO NEGRO</th>\n",
              "      <td>163</td>\n",
              "    </tr>\n",
              "    <tr>\n",
              "      <th>JUJUY</th>\n",
              "      <td>160</td>\n",
              "    </tr>\n",
              "    <tr>\n",
              "      <th>MISIONES</th>\n",
              "      <td>143</td>\n",
              "    </tr>\n",
              "    <tr>\n",
              "      <th>SALTA</th>\n",
              "      <td>139</td>\n",
              "    </tr>\n",
              "    <tr>\n",
              "      <th>TUCUMAN</th>\n",
              "      <td>117</td>\n",
              "    </tr>\n",
              "    <tr>\n",
              "      <th>SAN JUAN</th>\n",
              "      <td>108</td>\n",
              "    </tr>\n",
              "    <tr>\n",
              "      <th>LA RIOJA</th>\n",
              "      <td>93</td>\n",
              "    </tr>\n",
              "    <tr>\n",
              "      <th>CHACO</th>\n",
              "      <td>92</td>\n",
              "    </tr>\n",
              "    <tr>\n",
              "      <th>CHUBUT</th>\n",
              "      <td>90</td>\n",
              "    </tr>\n",
              "    <tr>\n",
              "      <th>LA PAMPA</th>\n",
              "      <td>89</td>\n",
              "    </tr>\n",
              "    <tr>\n",
              "      <th>CORRIENTES</th>\n",
              "      <td>78</td>\n",
              "    </tr>\n",
              "    <tr>\n",
              "      <th>FORMOSA</th>\n",
              "      <td>63</td>\n",
              "    </tr>\n",
              "    <tr>\n",
              "      <th>NEUQUEN</th>\n",
              "      <td>61</td>\n",
              "    </tr>\n",
              "    <tr>\n",
              "      <th>CABA</th>\n",
              "      <td>48</td>\n",
              "    </tr>\n",
              "    <tr>\n",
              "      <th>SANTA CRUZ</th>\n",
              "      <td>27</td>\n",
              "    </tr>\n",
              "    <tr>\n",
              "      <th>TIERRA DEL FUEGO</th>\n",
              "      <td>16</td>\n",
              "    </tr>\n",
              "  </tbody>\n",
              "</table>\n",
              "</div><br><label><b>dtype:</b> int64</label>"
            ]
          },
          "metadata": {},
          "execution_count": 17
        }
      ]
    },
    {
      "cell_type": "markdown",
      "id": "8c9106ba-ec11-44e3-b61c-d2e0ebd13aa2",
      "metadata": {
        "id": "8c9106ba-ec11-44e3-b61c-d2e0ebd13aa2"
      },
      "source": [
        "Hacer un gráfico con la columnas de valores únicos en barra y convertir a torta"
      ]
    },
    {
      "cell_type": "code",
      "execution_count": 18,
      "id": "5fb29f9e-4574-45b0-a894-6c328eb78133",
      "metadata": {
        "id": "5fb29f9e-4574-45b0-a894-6c328eb78133",
        "colab": {
          "base_uri": "https://localhost:8080/",
          "height": 621
        },
        "outputId": "6c25f7d8-b767-425b-9530-0706005cbc71"
      },
      "outputs": [
        {
          "output_type": "display_data",
          "data": {
            "text/plain": [
              "<Figure size 640x480 with 1 Axes>"
            ],
            "image/png": "[encoded data removed]"
          },
          "metadata": {}
        }
      ],
      "source": [
        "import matplotlib.pyplot as plt\n",
        "\n",
        "# Crear el gráfico de barras\n",
        "Redes = Internet['Provincia'].value_counts()\n",
        "Redes.plot(kind='bar', color='Skyblue')\n",
        "\n",
        "# Agregar etiquetas y título\n",
        "plt.xlabel('País')\n",
        "plt.ylabel('Cantidad de tipos de conexión a internet ')\n",
        "plt.title('Tipos y cantidad de conexiones a internet por provincia ')\n",
        "\n",
        "\n",
        "# Mostrar el gráfico\n",
        "plt.show()"
      ]
    },
    {
      "cell_type": "markdown",
      "id": "d7e03568-671b-4a94-89a3-6b86f959226a",
      "metadata": {
        "id": "d7e03568-671b-4a94-89a3-6b86f959226a"
      },
      "source": [
        "## 11.Crear el gráfico de torta\n",
        "* Investigar en la página de matplotlib(https://matplotlib.org/) cuál es el parámetro que cambia para hacer un gráfico de torta\n",
        "* ¿Qué otros tipos de gráficos se pueden realizar?"
      ]
    },
    {
      "cell_type": "markdown",
      "source": [
        "* Al hacer gráficos, se puede ver qué comparando el gráfico de barras con el gráfico de torta, cambia principalmente el parámetro \"ax.***\", ya que en el gráfico de barra se escribe: \"ax.bar\" y en el de torta es: \"ax.pie\", luego se colocan otros valores para personalizar el gráfico elegido, obviamente entre ambos códigos hay muchas diferencias pero el parámetro principal que cambia sería el \"Ax.\"\n",
        "*\n",
        "Se pueden hacer muchos tipos de gráficos, ya vimos 2 tipos, y como ejemplo hay otros 35 gráficos que podemos ver en la página de \"matplotlib\", desde gráficos simples a graficos 3D, cada una tiene diferentes utilidades y funciones, una puede ayudarte más que otra según lo que necesites,"
      ],
      "metadata": {
        "id": "ZMEuInAlMYy4"
      },
      "id": "ZMEuInAlMYy4"
    },
    {
      "cell_type": "markdown",
      "id": "53261dc0-fff2-4d64-9d8e-811d93c2e875",
      "metadata": {
        "id": "53261dc0-fff2-4d64-9d8e-811d93c2e875"
      },
      "source": [
        "## Desafío:\n",
        "* Probar realizar gráficos con otras columnas"
      ]
    },
    {
      "cell_type": "code",
      "execution_count": 24,
      "id": "c74c400f-0e27-4f89-affb-03321f1c9ce5",
      "metadata": {
        "id": "c74c400f-0e27-4f89-affb-03321f1c9ce5",
        "colab": {
          "base_uri": "https://localhost:8080/",
          "height": 448
        },
        "outputId": "cd8c9cb1-099f-48c5-8a06-fd24da834151"
      },
      "outputs": [
        {
          "output_type": "display_data",
          "data": {
            "text/plain": [
              "<Figure size 640x480 with 1 Axes>"
            ],
            "image/png": "[encoded data removed]"
          },
          "metadata": {}
        }
      ],
      "source": [
        "\n",
        "import matplotlib.pyplot as plt\n",
        "\n",
        "# Supongamos que 'Redes' es tu DataFrame y ya has calculado 'value_counts'\n",
        "# Redes = Internet['Provincia'].value_counts()\n",
        "\n",
        "# Colores personalizados (puedes cambiar estos colores a tu gusto)\n",
        "colores = ['#ff9999', '#66b3ff', '#99ff99', '#ffcc99', '#c2c2f0', '#ffb3e6']\n",
        "\n",
        "# Crear la torta\n",
        "fig, ax = plt.subplots()\n",
        "ax.pie(Redes, labels=Redes.index, colors=colores[:len(Redes)], autopct='%1.1f%%')\n",
        "\n",
        "# Agregar etiquetas y título\n",
        "plt.xlabel('País')\n",
        "plt.ylabel('')\n",
        "plt.title('Comparación de cantidad de conexiones a internet por provincia')\n",
        "\n",
        "# Mostrar el gráfico\n",
        "plt.show()\n"
      ]
    },
    {
      "cell_type": "code",
      "execution_count": 25,
      "id": "1ffaef84-5c31-4d77-8011-01eda8dbc8d3",
      "metadata": {
        "id": "1ffaef84-5c31-4d77-8011-01eda8dbc8d3",
        "colab": {
          "base_uri": "https://localhost:8080/",
          "height": 73
        },
        "outputId": "e96dc467-8c7b-477e-d008-7e7c06e4d6c3"
      },
      "outputs": [
        {
          "output_type": "execute_result",
          "data": {
            "text/plain": [
              "Empty DataFrame\n",
              "Columns: [index, Provincia, Partido, Localidad, Poblacion, ADSL, CABLEMODEM, DIALUP, FIBRAOPTICA, SATELITAL, WIRELESS, TELEFONIAFIJA, 3G, 4G, link, Latitud, Longitud]\n",
              "Index: []"
            ],
            "text/html": [
              "\n",
              "  <div id=\"df-ee4a2576-9e25-4cdb-9a38-8128b9d34718\" class=\"colab-df-container\">\n",
              "    <div>\n",
              "<style scoped>\n",
              "    .dataframe tbody tr th:only-of-type {\n",
              "        vertical-align: middle;\n",
              "    }\n",
              "\n",
              "    .dataframe tbody tr th {\n",
              "        vertical-align: top;\n",
              "    }\n",
              "\n",
              "    .dataframe thead th {\n",
              "        text-align: right;\n",
              "    }\n",
              "</style>\n",
              "<table border=\"1\" class=\"dataframe\">\n",
              "  <thead>\n",
              "    <tr style=\"text-align: right;\">\n",
              "      <th></th>\n",
              "      <th>index</th>\n",
              "      <th>Provincia</th>\n",
              "      <th>Partido</th>\n",
              "      <th>Localidad</th>\n",
              "      <th>Poblacion</th>\n",
              "      <th>ADSL</th>\n",
              "      <th>CABLEMODEM</th>\n",
              "      <th>DIALUP</th>\n",
              "      <th>FIBRAOPTICA</th>\n",
              "      <th>SATELITAL</th>\n",
              "      <th>WIRELESS</th>\n",
              "      <th>TELEFONIAFIJA</th>\n",
              "      <th>3G</th>\n",
              "      <th>4G</th>\n",
              "      <th>link</th>\n",
              "      <th>Latitud</th>\n",
              "      <th>Longitud</th>\n",
              "    </tr>\n",
              "  </thead>\n",
              "  <tbody>\n",
              "  </tbody>\n",
              "</table>\n",
              "</div>\n",
              "    <div class=\"colab-df-buttons\">\n",
              "\n",
              "  <div class=\"colab-df-container\">\n",
              "    <button class=\"colab-df-convert\" onclick=\"convertToInteractive('df-ee4a2576-9e25-4cdb-9a38-8128b9d34718')\"\n",
              "            title=\"Convert this dataframe to an interactive table.\"\n",
              "            style=\"display:none;\">\n",
              "\n",
              "  <svg xmlns=\"http://www.w3.org/2000/svg\" height=\"24px\" viewBox=\"0 -960 960 960\">\n",
              "    <path d=\"M120-120v-720h720v720H120Zm60-500h600v-160H180v160Zm220 220h160v-160H400v160Zm0 220h160v-160H400v160ZM180-400h160v-160H180v160Zm440 0h160v-160H620v160ZM180-180h160v-160H180v160Zm440 0h160v-160H620v160Z\"/>\n",
              "  </svg>\n",
              "    </button>\n",
              "\n",
              "  <style>\n",
              "    .colab-df-container {\n",
              "      display:flex;\n",
              "      gap: 12px;\n",
              "    }\n",
              "\n",
              "    .colab-df-convert {\n",
              "      background-color: #E8F0FE;\n",
              "      border: none;\n",
              "      border-radius: 50%;\n",
              "      cursor: pointer;\n",
              "      display: none;\n",
              "      fill: #1967D2;\n",
              "      height: 32px;\n",
              "      padding: 0 0 0 0;\n",
              "      width: 32px;\n",
              "    }\n",
              "\n",
              "    .colab-df-convert:hover {\n",
              "      background-color: #E2EBFA;\n",
              "      box-shadow: 0px 1px 2px rgba(60, 64, 67, 0.3), 0px 1px 3px 1px rgba(60, 64, 67, 0.15);\n",
              "      fill: #174EA6;\n",
              "    }\n",
              "\n",
              "    .colab-df-buttons div {\n",
              "      margin-bottom: 4px;\n",
              "    }\n",
              "\n",
              "    [theme=dark] .colab-df-convert {\n",
              "      background-color: #3B4455;\n",
              "      fill: #D2E3FC;\n",
              "    }\n",
              "\n",
              "    [theme=dark] .colab-df-convert:hover {\n",
              "      background-color: #434B5C;\n",
              "      box-shadow: 0px 1px 3px 1px rgba(0, 0, 0, 0.15);\n",
              "      filter: drop-shadow(0px 1px 2px rgba(0, 0, 0, 0.3));\n",
              "      fill: #FFFFFF;\n",
              "    }\n",
              "  </style>\n",
              "\n",
              "    <script>\n",
              "      const buttonEl =\n",
              "        document.querySelector('#df-ee4a2576-9e25-4cdb-9a38-8128b9d34718 button.colab-df-convert');\n",
              "      buttonEl.style.display =\n",
              "        google.colab.kernel.accessAllowed ? 'block' : 'none';\n",
              "\n",
              "      async function convertToInteractive(key) {\n",
              "        const element = document.querySelector('#df-ee4a2576-9e25-4cdb-9a38-8128b9d34718');\n",
              "        const dataTable =\n",
              "          await google.colab.kernel.invokeFunction('convertToInteractive',\n",
              "                                                    [key], {});\n",
              "        if (!dataTable) return;\n",
              "\n",
              "        const docLinkHtml = 'Like what you see? Visit the ' +\n",
              "          '<a target=\"_blank\" href=https://colab.research.google.com/notebooks/data_table.ipynb>data table notebook</a>'\n",
              "          + ' to learn more about interactive tables.';\n",
              "        element.innerHTML = '';\n",
              "        dataTable['output_type'] = 'display_data';\n",
              "        await google.colab.output.renderOutput(dataTable, element);\n",
              "        const docLink = document.createElement('div');\n",
              "        docLink.innerHTML = docLinkHtml;\n",
              "        element.appendChild(docLink);\n",
              "      }\n",
              "    </script>\n",
              "  </div>\n",
              "\n",
              "\n",
              "    </div>\n",
              "  </div>\n"
            ],
            "application/vnd.google.colaboratory.intrinsic+json": {
              "type": "dataframe",
              "repr_error": "Out of range float values are not JSON compliant: nan"
            }
          },
          "metadata": {},
          "execution_count": 25
        }
      ],
      "source": [
        "Internet[Internet['Provincia']=='Buenos Aires'].reset_index()"
      ]
    },
    {
      "cell_type": "markdown",
      "id": "07e06e15-5983-422d-8c6f-e024e0b4d490",
      "metadata": {
        "id": "07e06e15-5983-422d-8c6f-e024e0b4d490"
      },
      "source": [
        "* Buscar portales con sitios abiertos completar con\n",
        "    * url\n",
        "    * Jurisdicción\n",
        "    * Tipo de archivos encontrados\n",
        "    * Descripción sobre los datos\n",
        "* Completar con tres por o menos, cumnpliendo con:\n",
        "    * Uno de Argentina\n",
        "    * Uno del resto de América\n",
        "    * Uno del resto del mundo\n",
        "* Completar en un paddlet con el gráfico realizado por cada grupo"
      ]
    },
    {
      "cell_type": "markdown",
      "id": "9e86b6c1-29d7-4600-af80-8c447c38c0f7",
      "metadata": {
        "id": "9e86b6c1-29d7-4600-af80-8c447c38c0f7"
      },
      "source": []
    },
    {
      "cell_type": "markdown",
      "id": "afa5595a-604a-440f-beea-ce1e26a118e4",
      "metadata": {
        "id": "afa5595a-604a-440f-beea-ce1e26a118e4"
      },
      "source": [
        "# Ordenar\n",
        "Trabajemos con el archivo del último censo, el archivo fue modificado para ser más fácil su análisis\n",
        "* [Censo 2022]('files/c2022_tp_c_resumen_adaptado.csv')\n"
      ]
    },
    {
      "cell_type": "markdown",
      "id": "abb442f5-324f-43e9-b4c6-0c9b036f7dcd",
      "metadata": {
        "id": "abb442f5-324f-43e9-b4c6-0c9b036f7dcd"
      },
      "source": [
        "### Censo 2022: Total de población\n",
        "* Ordenar las jurisdicciones de mayor a menor población."
      ]
    },
    {
      "cell_type": "code",
      "execution_count": null,
      "id": "5118a203-8438-4b49-9b46-d6a0141f940c",
      "metadata": {
        "id": "5118a203-8438-4b49-9b46-d6a0141f940c"
      },
      "outputs": [],
      "source": []
    }
  ],
  "metadata": {
    "colab": {
      "provenance": []
    },
    "kernelspec": {
      "display_name": "Python 3 (ipykernel)",
      "language": "python",
      "name": "python3"
    },
    "language_info": {
      "codemirror_mode": {
        "name": "ipython",
        "version": 3
      },
      "file_extension": ".py",
      "mimetype": "text/x-python",
      "name": "python",
      "nbconvert_exporter": "python",
      "pygments_lexer": "ipython3",
      "version": "3.11.7"
    }
  },
  "nbformat": 4,
  "nbformat_minor": 5
}
